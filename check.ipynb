{
 "nbformat": 4,
 "nbformat_minor": 2,
 "metadata": {
  "language_info": {
   "name": "python",
   "codemirror_mode": {
    "name": "ipython",
    "version": 3
   },
   "version": "3.7.3-final"
  },
  "orig_nbformat": 2,
  "file_extension": ".py",
  "mimetype": "text/x-python",
  "name": "python",
  "npconvert_exporter": "python",
  "pygments_lexer": "ipython3",
  "version": 3,
  "kernelspec": {
   "name": "python37364bitb7004bbde37641dfb47b35a26b091c26",
   "display_name": "Python 3.7.3 64-bit"
  }
 },
 "cells": [
  {
   "cell_type": "code",
   "execution_count": 1,
   "metadata": {},
   "outputs": [],
   "source": [
    "import networkx as nx"
   ]
  },
  {
   "cell_type": "code",
   "execution_count": 2,
   "metadata": {},
   "outputs": [],
   "source": [
    "g = nx.read_edgelist('graphs/bio-dmela.clq.edges',nodetype=int)"
   ]
  },
  {
   "cell_type": "code",
   "execution_count": 10,
   "metadata": {},
   "outputs": [
    {
     "name": "stdout",
     "output_type": "stream",
     "text": "max weight: 7\n[[659, 1174, 2215, 2768, 666, 786, 1015]]\n"
    }
   ],
   "source": [
    "cliques = list(nx.find_cliques_recursive(g))\n",
    "maxWeight = 0\n",
    "for c in cliques:\n",
    "    if len(c) > maxWeight:\n",
    "        maxWeight = len(c)\n",
    "\n",
    "print('max weight: {}'.format(maxWeight))\n",
    "print([c for c in cliques if len(c) == maxWeight])"
   ]
  },
  {
   "cell_type": "code",
   "execution_count": null,
   "metadata": {},
   "outputs": [],
   "source": []
  }
 ]
}